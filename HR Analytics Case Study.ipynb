{
 "cells": [
  {
   "cell_type": "markdown",
   "id": "3cb4001c",
   "metadata": {},
   "source": [
    "# HR Analytics Case Study\n",
    "\n",
    "## Submitted By: Stuti Gupta (stutigupta0209@gmail.com)"
   ]
  },
  {
   "cell_type": "markdown",
   "id": "04afb468",
   "metadata": {},
   "source": [
    "### Objective\n",
    "- This Credit EDA case study tries to demonstrate how EDA can be used in a real-world business situation.\n",
    "- In this study, objective is to identify the best source of recruitment for a tech startup, based on previous data of candidate sources and recruitment strategies."
   ]
  },
  {
   "cell_type": "code",
   "execution_count": 2,
   "id": "7cc293c0",
   "metadata": {},
   "outputs": [],
   "source": [
    "#Filtering out the warnings\n",
    "import warnings\n",
    "warnings.filterwarnings('ignore')\n",
    "#Importing Libraries\n",
    "import numpy as np\n",
    "import pandas as pd\n",
    "import seaborn as sns\n",
    "import matplotlib.pyplot as plt"
   ]
  },
  {
   "cell_type": "code",
   "execution_count": 3,
   "id": "f64af3b0",
   "metadata": {},
   "outputs": [
    {
     "data": {
      "text/html": [
       "<div>\n",
       "<style scoped>\n",
       "    .dataframe tbody tr th:only-of-type {\n",
       "        vertical-align: middle;\n",
       "    }\n",
       "\n",
       "    .dataframe tbody tr th {\n",
       "        vertical-align: top;\n",
       "    }\n",
       "\n",
       "    .dataframe thead th {\n",
       "        text-align: right;\n",
       "    }\n",
       "</style>\n",
       "<table border=\"1\" class=\"dataframe\">\n",
       "  <thead>\n",
       "    <tr style=\"text-align: right;\">\n",
       "      <th></th>\n",
       "      <th>attrition</th>\n",
       "      <th>performance_rating</th>\n",
       "      <th>sales_quota_pct</th>\n",
       "      <th>recruiting_source</th>\n",
       "    </tr>\n",
       "  </thead>\n",
       "  <tbody>\n",
       "    <tr>\n",
       "      <th>0</th>\n",
       "      <td>1</td>\n",
       "      <td>3</td>\n",
       "      <td>1.088190</td>\n",
       "      <td>Applied Online</td>\n",
       "    </tr>\n",
       "    <tr>\n",
       "      <th>1</th>\n",
       "      <td>0</td>\n",
       "      <td>3</td>\n",
       "      <td>2.394173</td>\n",
       "      <td>NaN</td>\n",
       "    </tr>\n",
       "    <tr>\n",
       "      <th>2</th>\n",
       "      <td>1</td>\n",
       "      <td>2</td>\n",
       "      <td>0.497530</td>\n",
       "      <td>Campus</td>\n",
       "    </tr>\n",
       "    <tr>\n",
       "      <th>3</th>\n",
       "      <td>0</td>\n",
       "      <td>2</td>\n",
       "      <td>2.513958</td>\n",
       "      <td>NaN</td>\n",
       "    </tr>\n",
       "    <tr>\n",
       "      <th>4</th>\n",
       "      <td>0</td>\n",
       "      <td>3</td>\n",
       "      <td>1.424789</td>\n",
       "      <td>Applied Online</td>\n",
       "    </tr>\n",
       "  </tbody>\n",
       "</table>\n",
       "</div>"
      ],
      "text/plain": [
       "   attrition  performance_rating  sales_quota_pct recruiting_source\n",
       "0          1                   3         1.088190    Applied Online\n",
       "1          0                   3         2.394173               NaN\n",
       "2          1                   2         0.497530            Campus\n",
       "3          0                   2         2.513958               NaN\n",
       "4          0                   3         1.424789    Applied Online"
      ]
     },
     "execution_count": 3,
     "metadata": {},
     "output_type": "execute_result"
    }
   ],
   "source": [
    "#Reading data from Recruitment_Data.csv\n",
    "recruitment_data = pd.read_csv('Recruitment_Data.csv')\n",
    "recruitment_data.head()"
   ]
  },
  {
   "cell_type": "code",
   "execution_count": 4,
   "id": "cb5de6e6",
   "metadata": {},
   "outputs": [
    {
     "data": {
      "text/plain": [
       "(446, 4)"
      ]
     },
     "execution_count": 4,
     "metadata": {},
     "output_type": "execute_result"
    }
   ],
   "source": [
    "#checking shape of the data frame\n",
    "recruitment_data.shape"
   ]
  },
  {
   "cell_type": "code",
   "execution_count": 5,
   "id": "b6775004",
   "metadata": {},
   "outputs": [
    {
     "name": "stdout",
     "output_type": "stream",
     "text": [
      "<class 'pandas.core.frame.DataFrame'>\n",
      "RangeIndex: 446 entries, 0 to 445\n",
      "Data columns (total 4 columns):\n",
      " #   Column              Non-Null Count  Dtype  \n",
      "---  ------              --------------  -----  \n",
      " 0   attrition           446 non-null    int64  \n",
      " 1   performance_rating  446 non-null    int64  \n",
      " 2   sales_quota_pct     446 non-null    float64\n",
      " 3   recruiting_source   241 non-null    object \n",
      "dtypes: float64(1), int64(2), object(1)\n",
      "memory usage: 14.1+ KB\n"
     ]
    }
   ],
   "source": [
    "recruitment_data.info(verbose=True, show_counts=True)"
   ]
  },
  {
   "cell_type": "code",
   "execution_count": 9,
   "id": "3c3a7ff0",
   "metadata": {},
   "outputs": [
    {
     "data": {
      "text/plain": [
       "3    263\n",
       "2    106\n",
       "4     67\n",
       "1      7\n",
       "5      3\n",
       "Name: performance_rating, dtype: int64"
      ]
     },
     "execution_count": 9,
     "metadata": {},
     "output_type": "execute_result"
    }
   ],
   "source": [
    "# Checking distribution of performance rating\n",
    "recruitment_data[\"performance_rating\"].value_counts()"
   ]
  },
  {
   "cell_type": "code",
   "execution_count": 32,
   "id": "92947374",
   "metadata": {},
   "outputs": [
    {
     "data": {
      "image/png": "[encoded data removed]",
      "text/plain": [
       "<Figure size 640x480 with 1 Axes>"
      ]
     },
     "metadata": {},
     "output_type": "display_data"
    }
   ],
   "source": [
    "sns.countplot(recruitment_data[\"performance_rating\"])\n",
    "plt.show()"
   ]
  },
  {
   "cell_type": "markdown",
   "id": "9d7b9c0b",
   "metadata": {},
   "source": [
    "- Maximum employees received performance rating as 3.\n",
    "- Rating 5 is received by only 3 employees."
   ]
  },
  {
   "cell_type": "code",
   "execution_count": 11,
   "id": "1f9ae4be",
   "metadata": {},
   "outputs": [
    {
     "data": {
      "text/plain": [
       "Applied Online    130\n",
       "Campus             56\n",
       "Referral           45\n",
       "Search Firm        10\n",
       "Name: recruiting_source, dtype: int64"
      ]
     },
     "execution_count": 11,
     "metadata": {},
     "output_type": "execute_result"
    }
   ],
   "source": [
    "recruitment_data[\"recruiting_source\"].value_counts()"
   ]
  },
  {
   "cell_type": "code",
   "execution_count": 12,
   "id": "7ea17f58",
   "metadata": {},
   "outputs": [
    {
     "data": {
      "text/plain": [
       "NaN               205\n",
       "Applied Online    130\n",
       "Campus             56\n",
       "Referral           45\n",
       "Search Firm        10\n",
       "Name: recruiting_source, dtype: int64"
      ]
     },
     "execution_count": 12,
     "metadata": {},
     "output_type": "execute_result"
    }
   ],
   "source": [
    "recruitment_data[\"recruiting_source\"].value_counts(dropna = False)"
   ]
  },
  {
   "cell_type": "code",
   "execution_count": 24,
   "id": "dbea510b",
   "metadata": {},
   "outputs": [
    {
     "data": {
      "text/plain": [
       "recruiting_source\n",
       "Applied Online    0.246154\n",
       "Campus            0.285714\n",
       "Referral          0.333333\n",
       "Search Firm       0.500000\n",
       "Name: attrition, dtype: float64"
      ]
     },
     "execution_count": 24,
     "metadata": {},
     "output_type": "execute_result"
    }
   ],
   "source": [
    "#The average Attrition Number grouped by Recruiting Source\n",
    "recruitment_data.groupby('recruiting_source')['attrition'].mean()"
   ]
  },
  {
   "cell_type": "code",
   "execution_count": 16,
   "id": "7eee26b2",
   "metadata": {},
   "outputs": [
    {
     "data": {
      "text/plain": [
       "recruiting_source\n",
       "Applied Online    2.930769\n",
       "Campus            2.928571\n",
       "Referral          2.844444\n",
       "Search Firm       2.700000\n",
       "Name: performance_rating, dtype: float64"
      ]
     },
     "execution_count": 16,
     "metadata": {},
     "output_type": "execute_result"
    }
   ],
   "source": [
    "#The average Sales Number grouped by Recruiting Source\n",
    "recruitment_data.groupby(['recruiting_source'])['performance_rating'].mean()"
   ]
  },
  {
   "cell_type": "code",
   "execution_count": 17,
   "id": "f7a25d55",
   "metadata": {},
   "outputs": [
    {
     "data": {
      "text/plain": [
       "recruiting_source\n",
       "Applied Online    1.058590\n",
       "Campus            0.908035\n",
       "Referral          1.023198\n",
       "Search Firm       0.886960\n",
       "Name: sales_quota_pct, dtype: float64"
      ]
     },
     "execution_count": 17,
     "metadata": {},
     "output_type": "execute_result"
    }
   ],
   "source": [
    "recruitment_data.groupby('recruiting_source')['sales_quota_pct'].mean()"
   ]
  },
  {
   "cell_type": "code",
   "execution_count": 19,
   "id": "e0010daf",
   "metadata": {},
   "outputs": [
    {
     "data": {
      "text/plain": [
       "performance_rating\n",
       "1    42.857143\n",
       "2    19.811321\n",
       "3    21.673004\n",
       "4    20.895522\n",
       "5     0.000000\n",
       "Name: attrition, dtype: float64"
      ]
     },
     "execution_count": 19,
     "metadata": {},
     "output_type": "execute_result"
    }
   ],
   "source": [
    "100*recruitment_data.groupby(['performance_rating'])['attrition'].mean()"
   ]
  },
  {
   "cell_type": "code",
   "execution_count": 21,
   "id": "11dcf05a",
   "metadata": {},
   "outputs": [
    {
     "data": {
      "text/plain": [
       "performance_rating\n",
       "1    172.166988\n",
       "2    107.603492\n",
       "3    104.984132\n",
       "4    114.010638\n",
       "5    141.193906\n",
       "Name: sales_quota_pct, dtype: float64"
      ]
     },
     "execution_count": 21,
     "metadata": {},
     "output_type": "execute_result"
    }
   ],
   "source": [
    "100*recruitment_data.groupby(['performance_rating'])['sales_quota_pct'].mean()"
   ]
  },
  {
   "cell_type": "code",
   "execution_count": 35,
   "id": "3c7d1ebc",
   "metadata": {},
   "outputs": [
    {
     "data": {
      "image/png": "[encoded data removed]",
      "text/plain": [
       "<Figure size 640x480 with 1 Axes>"
      ]
     },
     "metadata": {},
     "output_type": "display_data"
    }
   ],
   "source": [
    "sns.countplot(data = recruitment_data, x = 'recruiting_source', hue = \"attrition\" )\n",
    "plt.show()"
   ]
  },
  {
   "cell_type": "code",
   "execution_count": 36,
   "id": "4e68c53d",
   "metadata": {},
   "outputs": [
    {
     "data": {
      "image/png": "[encoded data removed]",
      "text/plain": [
       "<Figure size 640x480 with 1 Axes>"
      ]
     },
     "metadata": {},
     "output_type": "display_data"
    }
   ],
   "source": [
    "sns.countplot(data = recruitment_data, x = 'recruiting_source', hue = \"performance_rating\" )\n",
    "plt.show()"
   ]
  },
  {
   "cell_type": "markdown",
   "id": "c20f1e7a",
   "metadata": {},
   "source": [
    "### Sources that have high Sales numbers and low Attrition numbers.\n",
    "- Applied Online\n",
    "- Campus"
   ]
  },
  {
   "cell_type": "code",
   "execution_count": null,
   "id": "702fb8c3",
   "metadata": {},
   "outputs": [],
   "source": []
  }
 ],
 "metadata": {
  "kernelspec": {
   "display_name": "Python 3 (ipykernel)",
   "language": "python",
   "name": "python3"
  },
  "language_info": {
   "codemirror_mode": {
    "name": "ipython",
    "version": 3
   },
   "file_extension": ".py",
   "mimetype": "text/x-python",
   "name": "python",
   "nbconvert_exporter": "python",
   "pygments_lexer": "ipython3",
   "version": "3.9.13"
  }
 },
 "nbformat": 4,
 "nbformat_minor": 5
}
